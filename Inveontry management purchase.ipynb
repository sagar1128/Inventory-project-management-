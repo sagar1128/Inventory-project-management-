{
 "cells": [
  {
   "cell_type": "markdown",
   "id": "165ad89f",
   "metadata": {},
   "source": [
    "# Read data from record"
   ]
  },
  {
   "cell_type": "code",
   "execution_count": 41,
   "id": "7a35cb96",
   "metadata": {},
   "outputs": [],
   "source": [
    "import json\n",
    "import time\n",
    "fd = open(\"data.json\",'r')\n",
    "record = fd.read()\n",
    "fd.close()\n",
    "\n",
    "records = json.loads(r)"
   ]
  },
  {
   "cell_type": "code",
   "execution_count": 40,
   "id": "cf7ed7cc",
   "metadata": {},
   "outputs": [
    {
     "data": {
      "text/plain": [
       "'{\"1001\": {\"name\": \"Barbon\", \"catogary\": \"Chocolate\", \"price\": 5, \"quantity\": 50, \"discount\": 0}, \"1002\": {\"name\": \"Barbon\", \"catogary\": \"Chocolate\", \"price\": 10, \"quantity\": 30, \"discount\": 0}, \"1004\": {\"name\": \"Dairy Milk\", \"catogary\": \"Chocolate\", \"price\": 10, \"quantity\": 62, \"discount\": 0}, \"1005\": {\"name\": \"Kitkat\", \"catogary\": \"Chocolate\", \"price\": 5, \"quantity\": 42, \"discount\": 0}, \"1006\": {\"name\": \"Kitkat\", \"catogary\": \"Chocolate\", \"price\": 20, \"quantity\": 53, \"discount\": 0}, \"1007\": {\"name\": \"5 star\", \"catogary\": \"Chocolate\", \"price\": 5, \"quantity\": 100, \"discount\": 0}, \"1008\": {\"name\": \"Galaxy\", \"catogary\": \"Chocolate\", \"price\": 5, \"quantity\": 230, \"discount\": 0}, \"1009\": {\"name\": \"Dairy Milk Silk\", \"catogary\": \"Chocolate\", \"price\": 50, \"quantity\": 30, \"discount\": 0}, \"1010\": {\"name\": \"Nestle\", \"catogary\": \"Chocolate\", \"price\": 5, \"quantity\": 23, \"discount\": 0}, \"1011\": {\"name\": \"Cadbury\", \"catogary\": \"Chocolate\", \"price\": 10, \"quantity\": 150, \"discount\": 0}, \"1012\": {\"name\": \"Amul\", \"catogary\": \"Chocolate\", \"price\": 5, \"quantity\": 20, \"discount\": 0}, \"1013\": {\"name\": \"Ferro Rocher\", \"catogary\": \"Chocolate\", \"price\": 15, \"quantity\": 560, \"discount\": 10}, \"1014\": {\"name\": \"Hershey\", \"catogary\": \"Chocolate\", \"price\": 5, \"quantity\": 500, \"discount\": 5}, \"1015\": {\"name\": \"Mars\", \"catogary\": \"Chocolate\", \"price\": 5, \"quantity\": 102, \"discount\": 0}, \"1016\": {\"name\": \"Galaxy\", \"catogary\": \"Chocolate\", \"price\": 20, \"quantity\": 80, \"discount\": 0}, \"1017\": {\"name\": \"Milkybar\", \"catogary\": \"Chocolate\", \"price\": 5, \"quantity\": 90, \"discount\": 0}, \"1018\": {\"name\": \"Amul Dark Chocolate\", \"catogary\": \"Chocolate\", \"price\": 80, \"quantity\": 70, \"discount\": 0}, \"1019\": {\"name\": \"Ferrero Rocher Chocolate Balls\", \"catogary\": \"Chocolate\", \"price\": 50, \"quantity\": 150, \"discount\": 0}, \"1020\": {\"name\": \"Dairy Milk\", \"catogary\": \"Chocolate\", \"price\": 5, \"quantity\": 50, \"discount\": 0}, \"1021\": {\"name\": \"Lottry Choco Pie\", \"catogary\": \"Cup Cake/Choco Pie\", \"price\": 10, \"quantity\": 90, \"discount\": 0}, \"1022\": {\"name\": \"Sprite\", \"catogary\": \"Soft Drink\", \"price\": 90, \"quantity\": 700, \"discount\": 0}, \"1023\": {\"name\": \"fruty\", \"catogary\": \"Soft Drink\", \"price\": 100, \"quantity\": 750, \"discount\": 0}, \"1024\": {\"name\": \"Maza\", \"catogary\": \"Soft Drink\", \"price\": 90, \"quantity\": 560, \"discount\": 0}, \"1003\": {\"name\": \"Kit-Kat\", \"catogary\": \"Chocolate\", \"price\": 50, \"quantity\": 155, \"discount\": 0}, \"1025\": {\"name\": \"KissMe\", \"catogary\": \"Toffy\", \"price\": 2, \"quantity\": 1000, \"discount\": 0}}'"
      ]
     },
     "execution_count": 40,
     "metadata": {},
     "output_type": "execute_result"
    }
   ],
   "source": [
    "record"
   ]
  },
  {
   "cell_type": "markdown",
   "id": "206968e8",
   "metadata": {},
   "source": [
    "# Purchase"
   ]
  },
  {
   "cell_type": "code",
   "execution_count": 43,
   "id": "34f2af87",
   "metadata": {},
   "outputs": [
    {
     "name": "stdout",
     "output_type": "stream",
     "text": [
      "*********************************************\n",
      "          Welcome to Sagar Store           \n",
      "\n",
      "Enter the product_Id: 1021\n",
      "Enter the quantity: 5\n",
      "Product:  Lottry Choco Pie\n",
      "Price:  10\n",
      "Total Billing Amount:  50.0\n",
      "Sun Sep  5 23:47:34 2021\n",
      "\n",
      "**********Thankyou**********\n"
     ]
    }
   ],
   "source": [
    "print(\"*********************************************\")\n",
    "print(\"          Welcome to Sagar Store           \\n\")\n",
    "\n",
    "i_prod  = str(input(\"Enter the product_Id: \"))\n",
    "i_quant = int(input(\"Enter the quantity: \"))\n",
    "\n",
    "\n",
    "print(\"Product: \", records[i_prod]['name'])\n",
    "print(\"Price: \", records[i_prod]['price'])\n",
    "print(\"Total Billing Amount: \", float(records[i_prod]['price']) * i_quant)\n",
    "\n",
    "records[i_prod]['quantity'] = records[i_prod]['quantity'] - i_quant\n",
    "print(time.ctime())\n",
    "print(\"\\n**********Thankyou**********\")"
   ]
  },
  {
   "cell_type": "code",
   "execution_count": null,
   "id": "283301eb",
   "metadata": {},
   "outputs": [],
   "source": []
  },
  {
   "cell_type": "markdown",
   "id": "e57df92a",
   "metadata": {},
   "source": [
    "# Update Inventory after purchase"
   ]
  },
  {
   "cell_type": "code",
   "execution_count": 44,
   "id": "ce618042",
   "metadata": {},
   "outputs": [],
   "source": [
    "js = json.dumps(records)\n",
    "\n",
    "fd = open(\"data.json\",'w')\n",
    "fd.write(js)\n",
    "fd.close()"
   ]
  },
  {
   "cell_type": "code",
   "execution_count": null,
   "id": "d3cdbb50",
   "metadata": {},
   "outputs": [],
   "source": []
  },
  {
   "cell_type": "markdown",
   "id": "058c87fd",
   "metadata": {},
   "source": [
    "# Total sale"
   ]
  },
  {
   "cell_type": "code",
   "execution_count": 46,
   "id": "06561c08",
   "metadata": {},
   "outputs": [
    {
     "name": "stdout",
     "output_type": "stream",
     "text": [
      "Recent Sale of Today\n",
      " {\"1\": {\"prod\": \"1021\", \"quantity\": 5, \"amount\": 50}}\n",
      "Sun Sep  5 23:48:26 2021\n"
     ]
    }
   ],
   "source": [
    "sales = {1 : {'prod' : i_prod, 'quantity' : i_quant, 'amount': records[i_prod]['price'] * i_quant},\n",
    "         }\n",
    "sale = json.dumps(sales)\n",
    "print(\"Recent Sale of Today\\n\",sale)\n",
    "print(time.ctime())\n",
    "\n"
   ]
  },
  {
   "cell_type": "code",
   "execution_count": null,
   "id": "a5b24638",
   "metadata": {},
   "outputs": [],
   "source": []
  }
 ],
 "metadata": {
  "kernelspec": {
   "display_name": "Python 3",
   "language": "python",
   "name": "python3"
  },
  "language_info": {
   "codemirror_mode": {
    "name": "ipython",
    "version": 3
   },
   "file_extension": ".py",
   "mimetype": "text/x-python",
   "name": "python",
   "nbconvert_exporter": "python",
   "pygments_lexer": "ipython3",
   "version": "3.8.8"
  }
 },
 "nbformat": 4,
 "nbformat_minor": 5
}
